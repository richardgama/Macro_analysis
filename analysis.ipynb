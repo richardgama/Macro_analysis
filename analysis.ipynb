{
 "cells": [
  {
   "attachments": {},
   "cell_type": "markdown",
   "metadata": {},
   "source": [
    "## Sanity check and basic statistics"
   ]
  },
  {
   "cell_type": "code",
   "execution_count": 1,
   "metadata": {},
   "outputs": [
    {
     "data": {
      "text/html": [
       "<div>\n",
       "<style scoped>\n",
       "    .dataframe tbody tr th:only-of-type {\n",
       "        vertical-align: middle;\n",
       "    }\n",
       "\n",
       "    .dataframe tbody tr th {\n",
       "        vertical-align: top;\n",
       "    }\n",
       "\n",
       "    .dataframe thead th {\n",
       "        text-align: right;\n",
       "    }\n",
       "</style>\n",
       "<table border=\"1\" class=\"dataframe\">\n",
       "  <thead>\n",
       "    <tr style=\"text-align: right;\">\n",
       "      <th></th>\n",
       "      <th>date</th>\n",
       "      <th>consumption</th>\n",
       "      <th>dpi</th>\n",
       "      <th>unemp</th>\n",
       "    </tr>\n",
       "  </thead>\n",
       "  <tbody>\n",
       "    <tr>\n",
       "      <th>0</th>\n",
       "      <td>1950 Q1</td>\n",
       "      <td>1058.9</td>\n",
       "      <td>1186.1</td>\n",
       "      <td>6.4</td>\n",
       "    </tr>\n",
       "    <tr>\n",
       "      <th>1</th>\n",
       "      <td>1950 Q2</td>\n",
       "      <td>1075.9</td>\n",
       "      <td>1178.1</td>\n",
       "      <td>5.6</td>\n",
       "    </tr>\n",
       "    <tr>\n",
       "      <th>2</th>\n",
       "      <td>1950 Q3</td>\n",
       "      <td>1131.0</td>\n",
       "      <td>1196.5</td>\n",
       "      <td>4.6</td>\n",
       "    </tr>\n",
       "    <tr>\n",
       "      <th>3</th>\n",
       "      <td>1950 Q4</td>\n",
       "      <td>1097.6</td>\n",
       "      <td>1210.0</td>\n",
       "      <td>4.2</td>\n",
       "    </tr>\n",
       "    <tr>\n",
       "      <th>4</th>\n",
       "      <td>1951 Q1</td>\n",
       "      <td>1122.8</td>\n",
       "      <td>1207.9</td>\n",
       "      <td>3.5</td>\n",
       "    </tr>\n",
       "    <tr>\n",
       "      <th>...</th>\n",
       "      <td>...</td>\n",
       "      <td>...</td>\n",
       "      <td>...</td>\n",
       "      <td>...</td>\n",
       "    </tr>\n",
       "    <tr>\n",
       "      <th>199</th>\n",
       "      <td>1999 Q4</td>\n",
       "      <td>6083.6</td>\n",
       "      <td>6379.2</td>\n",
       "      <td>4.1</td>\n",
       "    </tr>\n",
       "    <tr>\n",
       "      <th>200</th>\n",
       "      <td>2000 Q1</td>\n",
       "      <td>6171.7</td>\n",
       "      <td>6431.6</td>\n",
       "      <td>4.0</td>\n",
       "    </tr>\n",
       "    <tr>\n",
       "      <th>201</th>\n",
       "      <td>2000 Q2</td>\n",
       "      <td>6226.3</td>\n",
       "      <td>6523.7</td>\n",
       "      <td>4.0</td>\n",
       "    </tr>\n",
       "    <tr>\n",
       "      <th>202</th>\n",
       "      <td>2000 Q3</td>\n",
       "      <td>6292.1</td>\n",
       "      <td>6566.5</td>\n",
       "      <td>4.1</td>\n",
       "    </tr>\n",
       "    <tr>\n",
       "      <th>203</th>\n",
       "      <td>2000 Q4</td>\n",
       "      <td>6341.1</td>\n",
       "      <td>6634.9</td>\n",
       "      <td>4.0</td>\n",
       "    </tr>\n",
       "  </tbody>\n",
       "</table>\n",
       "<p>204 rows × 4 columns</p>\n",
       "</div>"
      ],
      "text/plain": [
       "        date  consumption     dpi  unemp\n",
       "0    1950 Q1       1058.9  1186.1    6.4\n",
       "1    1950 Q2       1075.9  1178.1    5.6\n",
       "2    1950 Q3       1131.0  1196.5    4.6\n",
       "3    1950 Q4       1097.6  1210.0    4.2\n",
       "4    1951 Q1       1122.8  1207.9    3.5\n",
       "..       ...          ...     ...    ...\n",
       "199  1999 Q4       6083.6  6379.2    4.1\n",
       "200  2000 Q1       6171.7  6431.6    4.0\n",
       "201  2000 Q2       6226.3  6523.7    4.0\n",
       "202  2000 Q3       6292.1  6566.5    4.1\n",
       "203  2000 Q4       6341.1  6634.9    4.0\n",
       "\n",
       "[204 rows x 4 columns]"
      ]
     },
     "execution_count": 1,
     "metadata": {},
     "output_type": "execute_result"
    }
   ],
   "source": [
    "import pandas as pd\n",
    "import numpy as np\n",
    "import statsmodels.api as sm\n",
    "\n",
    "# Load data\n",
    "data = pd.read_csv(\"data_analysis.csv\", delimiter=\"|\")\n",
    "data"
   ]
  },
  {
   "cell_type": "code",
   "execution_count": 2,
   "metadata": {},
   "outputs": [
    {
     "name": "stdout",
     "output_type": "stream",
     "text": [
      "date           0\n",
      "consumption    0\n",
      "dpi            0\n",
      "unemp          0\n",
      "dtype: int64\n",
      "\n",
      "Rows with missing values:\n"
     ]
    },
    {
     "data": {
      "text/html": [
       "<div>\n",
       "<style scoped>\n",
       "    .dataframe tbody tr th:only-of-type {\n",
       "        vertical-align: middle;\n",
       "    }\n",
       "\n",
       "    .dataframe tbody tr th {\n",
       "        vertical-align: top;\n",
       "    }\n",
       "\n",
       "    .dataframe thead th {\n",
       "        text-align: right;\n",
       "    }\n",
       "</style>\n",
       "<table border=\"1\" class=\"dataframe\">\n",
       "  <thead>\n",
       "    <tr style=\"text-align: right;\">\n",
       "      <th></th>\n",
       "      <th>date</th>\n",
       "      <th>consumption</th>\n",
       "      <th>dpi</th>\n",
       "      <th>unemp</th>\n",
       "    </tr>\n",
       "  </thead>\n",
       "  <tbody>\n",
       "  </tbody>\n",
       "</table>\n",
       "</div>"
      ],
      "text/plain": [
       "Empty DataFrame\n",
       "Columns: [date, consumption, dpi, unemp]\n",
       "Index: []"
      ]
     },
     "execution_count": 2,
     "metadata": {},
     "output_type": "execute_result"
    }
   ],
   "source": [
    "## Check for missing values\n",
    "\n",
    "missing_values = data.isnull()\n",
    "missing_values_col = data.isnull().sum()\n",
    "print(missing_values_col)\n",
    "\n",
    "# Find rows and columns with missing values\n",
    "rows_with_missing = missing_values.any(axis=1)\n",
    "cols_with_missing = missing_values.any(axis=0)\n",
    "\n",
    "# Print rows and columns with missing values\n",
    "print(\"\\nRows with missing values:\")\n",
    "data[rows_with_missing]\n"
   ]
  },
  {
   "cell_type": "code",
   "execution_count": 3,
   "metadata": {},
   "outputs": [
    {
     "data": {
      "text/html": [
       "<div>\n",
       "<style scoped>\n",
       "    .dataframe tbody tr th:only-of-type {\n",
       "        vertical-align: middle;\n",
       "    }\n",
       "\n",
       "    .dataframe tbody tr th {\n",
       "        vertical-align: top;\n",
       "    }\n",
       "\n",
       "    .dataframe thead th {\n",
       "        text-align: right;\n",
       "    }\n",
       "</style>\n",
       "<table border=\"1\" class=\"dataframe\">\n",
       "  <thead>\n",
       "    <tr style=\"text-align: right;\">\n",
       "      <th></th>\n",
       "      <th>consumption</th>\n",
       "      <th>dpi</th>\n",
       "      <th>unemp</th>\n",
       "    </tr>\n",
       "  </thead>\n",
       "  <tbody>\n",
       "    <tr>\n",
       "      <th>count</th>\n",
       "      <td>204.0</td>\n",
       "      <td>204.0</td>\n",
       "      <td>204.0</td>\n",
       "    </tr>\n",
       "    <tr>\n",
       "      <th>mean</th>\n",
       "      <td>2999.0</td>\n",
       "      <td>3341.0</td>\n",
       "      <td>6.0</td>\n",
       "    </tr>\n",
       "    <tr>\n",
       "      <th>std</th>\n",
       "      <td>1460.0</td>\n",
       "      <td>1581.0</td>\n",
       "      <td>2.0</td>\n",
       "    </tr>\n",
       "    <tr>\n",
       "      <th>min</th>\n",
       "      <td>1059.0</td>\n",
       "      <td>1178.0</td>\n",
       "      <td>3.0</td>\n",
       "    </tr>\n",
       "    <tr>\n",
       "      <th>25%</th>\n",
       "      <td>1640.0</td>\n",
       "      <td>1822.0</td>\n",
       "      <td>4.0</td>\n",
       "    </tr>\n",
       "    <tr>\n",
       "      <th>50%</th>\n",
       "      <td>2715.0</td>\n",
       "      <td>3133.0</td>\n",
       "      <td>6.0</td>\n",
       "    </tr>\n",
       "    <tr>\n",
       "      <th>75%</th>\n",
       "      <td>4235.0</td>\n",
       "      <td>4733.0</td>\n",
       "      <td>7.0</td>\n",
       "    </tr>\n",
       "    <tr>\n",
       "      <th>max</th>\n",
       "      <td>6341.0</td>\n",
       "      <td>6635.0</td>\n",
       "      <td>11.0</td>\n",
       "    </tr>\n",
       "  </tbody>\n",
       "</table>\n",
       "</div>"
      ],
      "text/plain": [
       "       consumption     dpi  unemp\n",
       "count        204.0   204.0  204.0\n",
       "mean        2999.0  3341.0    6.0\n",
       "std         1460.0  1581.0    2.0\n",
       "min         1059.0  1178.0    3.0\n",
       "25%         1640.0  1822.0    4.0\n",
       "50%         2715.0  3133.0    6.0\n",
       "75%         4235.0  4733.0    7.0\n",
       "max         6341.0  6635.0   11.0"
      ]
     },
     "execution_count": 3,
     "metadata": {},
     "output_type": "execute_result"
    }
   ],
   "source": [
    "## Exploratory statistical analysis on each columns\n",
    "\n",
    "# Simple statistics using the describe method\n",
    "stats = data.describe()\n",
    "\n",
    "# Drop excess digits\n",
    "stats = stats.round(0)\n",
    "\n",
    "# Print the statistics\n",
    "stats"
   ]
  },
  {
   "attachments": {},
   "cell_type": "markdown",
   "metadata": {},
   "source": [
    "## Replication of Results"
   ]
  },
  {
   "cell_type": "code",
   "execution_count": 4,
   "metadata": {},
   "outputs": [
    {
     "name": "stdout",
     "output_type": "stream",
     "text": [
      "        date  consumption     dpi  unemp  d_consumption  d_dpi  d_unemp\n",
      "1    1950 Q2       1075.9  1178.1    5.6           17.0   -8.0     -0.8\n",
      "2    1950 Q3       1131.0  1196.5    4.6           55.1   18.4     -1.0\n",
      "3    1950 Q4       1097.6  1210.0    4.2          -33.4   13.5     -0.4\n",
      "4    1951 Q1       1122.8  1207.9    3.5           25.2   -2.1     -0.7\n",
      "5    1951 Q2       1091.4  1225.8    3.1          -31.4   17.9     -0.4\n",
      "..       ...          ...     ...    ...            ...    ...      ...\n",
      "199  1999 Q4       6083.6  6379.2    4.1           83.6   46.8     -0.1\n",
      "200  2000 Q1       6171.7  6431.6    4.0           88.1   52.4     -0.1\n",
      "201  2000 Q2       6226.3  6523.7    4.0           54.6   92.1      0.0\n",
      "202  2000 Q3       6292.1  6566.5    4.1           65.8   42.8      0.1\n",
      "203  2000 Q4       6341.1  6634.9    4.0           49.0   68.4     -0.1\n",
      "\n",
      "[203 rows x 7 columns]\n",
      "                            OLS Regression Results                            \n",
      "==============================================================================\n",
      "Dep. Variable:          d_consumption   R-squared:                       0.335\n",
      "Model:                            OLS   Adj. R-squared:                  0.328\n",
      "Method:                 Least Squares   F-statistic:                     50.31\n",
      "Date:                Mon, 30 Jan 2023   Prob (F-statistic):           2.00e-18\n",
      "Time:                        16:36:53   Log-Likelihood:                -898.12\n",
      "No. Observations:                 203   AIC:                             1802.\n",
      "Df Residuals:                     200   BIC:                             1812.\n",
      "Df Model:                           2                                         \n",
      "Covariance Type:            nonrobust                                         \n",
      "==============================================================================\n",
      "                 coef    std err          t      P>|t|      [0.025      0.975]\n",
      "------------------------------------------------------------------------------\n",
      "const         16.2848      1.911      8.522      0.000      12.517      20.053\n",
      "d_dpi          0.3557      0.048      7.444      0.000       0.261       0.450\n",
      "d_unemp      -16.0149      3.792     -4.223      0.000     -23.493      -8.537\n",
      "==============================================================================\n",
      "Omnibus:                       12.022   Durbin-Watson:                   1.767\n",
      "Prob(Omnibus):                  0.002   Jarque-Bera (JB):               14.257\n",
      "Skew:                           0.459   Prob(JB):                     0.000802\n",
      "Kurtosis:                       3.919   Cond. No.                         110.\n",
      "==============================================================================\n",
      "\n",
      "Notes:\n",
      "[1] Standard Errors assume that the covariance matrix of the errors is correctly specified.\n"
     ]
    }
   ],
   "source": [
    "# Calculate first differences\n",
    "data[\"d_consumption\"] = data[\"consumption\"].diff()\n",
    "data[\"d_dpi\"] = data[\"dpi\"].diff()\n",
    "data[\"d_unemp\"] = data[\"unemp\"].diff()\n",
    "data = data.drop(0,axis=0)\n",
    "print(data)\n",
    "\n",
    "# Create the independent and dependent variables for the regression\n",
    "X = data[[\"d_dpi\", \"d_unemp\"]]\n",
    "Y = data[\"d_consumption\"]\n",
    "\n",
    "# Add a constant term to the independent variables\n",
    "X = sm.add_constant(X)\n",
    "\n",
    "# Fit the regression model\n",
    "model = sm.OLS(Y, X).fit()\n",
    "\n",
    "# Print the summary of the model\n",
    "print(model.summary())\n"
   ]
  },
  {
   "attachments": {},
   "cell_type": "markdown",
   "metadata": {},
   "source": [
    "## Outlier Detection"
   ]
  },
  {
   "cell_type": "code",
   "execution_count": 5,
   "metadata": {},
   "outputs": [
    {
     "name": "stdout",
     "output_type": "stream",
     "text": [
      "Number of outliers for Tukey's test : 12\n",
      "Total number of residuals : 203\n"
     ]
    }
   ],
   "source": [
    "import seaborn as sns\n",
    "import matplotlib.pyplot as plt\n",
    "\n",
    "## Calculate the residuals according to Tukey's test\n",
    "\n",
    "residuals = Y - model.predict(X)\n",
    "Data3residuals = pd.DataFrame({\"Explained\" : Y , \"Predicted\" : model.predict(X), \"Residuals\" : residuals})\n",
    "\n",
    "\n",
    "# Calculate the quantiles and interquartile range\n",
    "q25 = residuals.quantile(0.25)\n",
    "q75 = residuals.quantile(0.75)\n",
    "iqr = q75 - q25\n",
    "\n",
    "# Define the boundaries for outliers\n",
    "lower_bound = q25 - 1.5*iqr\n",
    "upper_bound = q75 + 1.5*iqr\n",
    "\n",
    "# Find the outliers\n",
    "outliers = residuals[(residuals < lower_bound) | (residuals > upper_bound)]\n",
    "\n",
    "# Print the number of outliers\n",
    "print(\"Number of outliers for Tukey's test :\", len(outliers))\n",
    "print(\"Total number of residuals :\", len(residuals))\n"
   ]
  },
  {
   "cell_type": "code",
   "execution_count": 6,
   "metadata": {},
   "outputs": [
    {
     "data": {
      "image/png": "[encoded data removed]",
      "text/plain": [
       "<Figure size 640x480 with 1 Axes>"
      ]
     },
     "metadata": {},
     "output_type": "display_data"
    }
   ],
   "source": [
    "# Plot the residuals\n",
    "sns.boxplot(x=residuals)\n",
    "plt.show()"
   ]
  },
  {
   "cell_type": "code",
   "execution_count": 7,
   "metadata": {},
   "outputs": [
    {
     "name": "stdout",
     "output_type": "stream",
     "text": [
      "Residuals mean: 3.696222310160915e-14\n",
      "Residuals std: 20.2419895126205\n",
      "Number of outliers for std test : 1\n"
     ]
    },
    {
     "data": {
      "image/png": "[encoded data removed]",
      "text/plain": [
       "<Figure size 640x480 with 1 Axes>"
      ]
     },
     "metadata": {},
     "output_type": "display_data"
    }
   ],
   "source": [
    "## Find the outliers using 3 standard deviations from the mean\n",
    "Rmean = residuals.mean()\n",
    "Rstd = residuals.std()\n",
    "print(\"Residuals mean:\", Rmean)\n",
    "print(\"Residuals std:\", Rstd)\n",
    "\n",
    "Routliers_std = residuals[(residuals < Rmean - 3*Rstd) | (residuals > Rmean + 3*Rstd)]\n",
    "print(\"Number of outliers for std test :\", len(Routliers_std))\n",
    "\n",
    "# Plot the time series of residuals\n",
    "plt.axhline(y=3*Rstd, color='r', linestyle='-')\n",
    "plt.axhline(y=-3*Rstd, color='r', linestyle='-')\n",
    "plt.plot(residuals)\n",
    "plt.show()\n"
   ]
  },
  {
   "attachments": {},
   "cell_type": "markdown",
   "metadata": {},
   "source": [
    "## Autocorrelation of Residuals"
   ]
  },
  {
   "cell_type": "code",
   "execution_count": 8,
   "metadata": {},
   "outputs": [
    {
     "name": "stdout",
     "output_type": "stream",
     "text": [
      "Durbin-Watson statistic:  1.9812365490254897\n"
     ]
    }
   ],
   "source": [
    "# fit the time series regression model\n",
    "modelAR = sm.tsa.SARIMAX(residuals, order=(1,1,1)) \n",
    "resultsAR = modelAR.fit()\n",
    "\n",
    "# calculate the Durbin-Watson statistic\n",
    "dw_stat = sm.stats.durbin_watson(resultsAR.resid)\n",
    "print(\"Durbin-Watson statistic: \", dw_stat)"
   ]
  },
  {
   "cell_type": "code",
   "execution_count": 9,
   "metadata": {},
   "outputs": [
    {
     "name": "stdout",
     "output_type": "stream",
     "text": [
      "Shapiro-Wilk test statistic:  0.9915707111358643\n",
      "Shapiro-Wilk test p-value:  0.28859448432922363\n"
     ]
    }
   ],
   "source": [
    "from scipy.stats import shapiro\n",
    "\n",
    "# perform the Shapiro-Wilk test\n",
    "statSh, pSh = shapiro(resultsAR.resid)\n",
    "print(\"Shapiro-Wilk test statistic: \", statSh)\n",
    "print(\"Shapiro-Wilk test p-value: \", pSh)"
   ]
  },
  {
   "cell_type": "code",
   "execution_count": 10,
   "metadata": {},
   "outputs": [],
   "source": [
    "# import statsmodels.stats.stattools\n",
    "\n",
    "# from statsmodels.stats.stattools import durbin_watson_test\n",
    "\n",
    "# # perform the Durbin-Watson test\n",
    "# dw_stat, p_value, _, _ = durbin_watson_test(resultsAR.resid)\n",
    "\n",
    "# print(\"Durbin-Watson test statistic: \", dw_stat)\n",
    "# print(\"Durbin-Watson test p-value: \", p_value)"
   ]
  },
  {
   "attachments": {},
   "cell_type": "markdown",
   "metadata": {},
   "source": [
    "## Bootstrapping of Standard Errors"
   ]
  },
  {
   "cell_type": "code",
   "execution_count": 11,
   "metadata": {},
   "outputs": [
    {
     "name": "stdout",
     "output_type": "stream",
     "text": [
      "const      16.284764\n",
      "d_dpi       0.355667\n",
      "d_unemp   -16.014886\n",
      "dtype: float64\n",
      "const      1.910841\n",
      "d_dpi      0.047779\n",
      "d_unemp    3.792157\n",
      "dtype: float64\n",
      "mean_coefs : [ 16.24878437   0.35578027 -16.01046552]\n",
      "std_coefs : [2.31764079 0.05664948 4.2148152 ]\n",
      "mean_se : [1.90612671 0.04814723 3.81654753]\n",
      "std_se : [0.13413187 0.00460141 0.37180237]\n"
     ]
    }
   ],
   "source": [
    "# get the original coefficients and standard errors\n",
    "original_coefs = model.params\n",
    "original_se = model.bse\n",
    "\n",
    "print(model.params)\n",
    "print(model.bse)\n",
    "\n",
    "# set the number of bootstrap samples\n",
    "N_BOOT = 10_000\n",
    "\n",
    "# initialize empty arrays to store the bootstrapped coefficients and standard errors\n",
    "boot_coefs = np.zeros((N_BOOT, len(model.params)))\n",
    "boot_se = np.zeros((N_BOOT, len(model.params)))\n",
    "\n",
    "# perform the bootstrap\n",
    "for i in range(N_BOOT):\n",
    "    # create a bootstrap sample\n",
    "    sample_index = np.random.randint(1, len(X), len(X))\n",
    "    X_boot = X.loc[sample_index]\n",
    "    y_boot = Y.loc[sample_index]\n",
    "    \n",
    "    # fit the linear regression model on the bootstrap sample\n",
    "    reg_boot = sm.OLS(y_boot, X_boot).fit()\n",
    "    \n",
    "    # store the bootstrapped coefficients and standard errors\n",
    "    boot_coefs[i] = reg_boot.params\n",
    "    boot_se[i] = reg_boot.bse\n",
    "\n",
    "# calculate the mean and standard deviation of the bootstrapped coefficients and standard errors\n",
    "mean_coefs = np.mean(boot_coefs, axis=0)\n",
    "std_coefs = np.std(boot_coefs, axis=0)\n",
    "mean_se = np.mean(boot_se, axis=0)\n",
    "std_se = np.std(boot_se, axis=0)\n",
    "\n",
    "print(\"mean_coefs :\",mean_coefs)\n",
    "print(\"std_coefs :\",std_coefs)\n",
    "print(\"mean_se :\",mean_se)\n",
    "print(\"std_se :\",std_se)"
   ]
  },
  {
   "attachments": {},
   "cell_type": "markdown",
   "metadata": {},
   "source": [
    "## Performance Testing"
   ]
  },
  {
   "cell_type": "code",
   "execution_count": 12,
   "metadata": {},
   "outputs": [
    {
     "data": {
      "text/plain": [
       "<AxesSubplot: xlabel='Explained', ylabel='Predicted'>"
      ]
     },
     "execution_count": 12,
     "metadata": {},
     "output_type": "execute_result"
    },
    {
     "data": {
      "image/png": "[encoded data removed]",
      "text/plain": [
       "<Figure size 640x480 with 1 Axes>"
      ]
     },
     "metadata": {},
     "output_type": "display_data"
    }
   ],
   "source": [
    "# Scatter plot of d_consumption and it's predicted value\n",
    "Data3residuals.plot.scatter(x='Explained', y='Predicted')"
   ]
  },
  {
   "cell_type": "code",
   "execution_count": 13,
   "metadata": {},
   "outputs": [
    {
     "name": "stdout",
     "output_type": "stream",
     "text": [
      "                            OLS Regression Results                            \n",
      "==============================================================================\n",
      "Dep. Variable:              Explained   R-squared:                       0.335\n",
      "Model:                            OLS   Adj. R-squared:                  0.331\n",
      "Method:                 Least Squares   F-statistic:                     101.1\n",
      "Date:                Mon, 30 Jan 2023   Prob (F-statistic):           1.57e-19\n",
      "Time:                        16:37:07   Log-Likelihood:                -898.12\n",
      "No. Observations:                 203   AIC:                             1800.\n",
      "Df Residuals:                     201   BIC:                             1807.\n",
      "Df Model:                           1                                         \n",
      "Covariance Type:            nonrobust                                         \n",
      "==============================================================================\n",
      "                 coef    std err          t      P>|t|      [0.025      0.975]\n",
      "------------------------------------------------------------------------------\n",
      "const       1.046e-13      2.954   3.54e-14      1.000      -5.824       5.824\n",
      "Predicted      1.0000      0.099     10.056      0.000       0.804       1.196\n",
      "==============================================================================\n",
      "Omnibus:                       12.022   Durbin-Watson:                   1.767\n",
      "Prob(Omnibus):                  0.002   Jarque-Bera (JB):               14.257\n",
      "Skew:                           0.459   Prob(JB):                     0.000802\n",
      "Kurtosis:                       3.919   Cond. No.                         61.7\n",
      "==============================================================================\n",
      "\n",
      "Notes:\n",
      "[1] Standard Errors assume that the covariance matrix of the errors is correctly specified.\n"
     ]
    }
   ],
   "source": [
    "## Fit the regression model of the Predicted over the Explained variables\n",
    "# Create the independent and dependent variables for the regression\n",
    "Xsc = Data3residuals[\"Predicted\"]\n",
    "Ysc = Data3residuals[\"Explained\"]\n",
    "\n",
    "# Add a constant term to the independent variables\n",
    "Xsc = sm.add_constant(Xsc)\n",
    "\n",
    "# Fit the regression model\n",
    "modelsc = sm.OLS(Ysc, Xsc).fit()\n",
    "\n",
    "# Print the summary of the model\n",
    "print(modelsc.summary())"
   ]
  }
 ],
 "metadata": {
  "kernelspec": {
   "display_name": "Python 3",
   "language": "python",
   "name": "python3"
  },
  "language_info": {
   "codemirror_mode": {
    "name": "ipython",
    "version": 3
   },
   "file_extension": ".py",
   "mimetype": "text/x-python",
   "name": "python",
   "nbconvert_exporter": "python",
   "pygments_lexer": "ipython3",
   "version": "3.10.4"
  },
  "orig_nbformat": 4,
  "vscode": {
   "interpreter": {
    "hash": "824309e65dd07147cb20978f6faa4f48e450b0de44346abaa428f145dbe56e9d"
   }
  }
 },
 "nbformat": 4,
 "nbformat_minor": 2
}
